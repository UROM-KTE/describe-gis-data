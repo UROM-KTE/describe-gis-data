{
 "cells": [
  {
   "cell_type": "markdown",
   "metadata": {},
   "source": [
    "# Oleaster (Eleagnus angustifolia) coverage investigation in the South Heves Grasslands Landscape Protection Area in 2023"
   ]
  },
  {
   "cell_type": "markdown",
   "metadata": {},
   "source": [
    "## Importing libraries"
   ]
  },
  {
   "cell_type": "code",
   "execution_count": null,
   "metadata": {},
   "outputs": [],
   "source": [
    "import geopandas\n",
    "\n",
    "from src.calculate_statistics import AreaStatisticsComparisonWithSampleArea\n",
    "from src.utils.file_utils import write_csv_from_dict\n",
    "from src.utils.file_utils.write_excel import write_excel_sheet_from_dict, write_excel_sheet_from_dataframe"
   ]
  },
  {
   "cell_type": "markdown",
   "metadata": {},
   "source": [
    "## Setting up the input data"
   ]
  },
  {
   "cell_type": "code",
   "execution_count": null,
   "metadata": {},
   "outputs": [],
   "source": [
    "oleasters_basic_data = geopandas.read_file(\n",
    "    '../data/oleasters_dhte_2023/ezustfa_manual_digit.gpkg',\n",
    "    layer='ezustfa_manual_digit'\n",
    ")\n",
    "sample_area_basic_data = geopandas.read_file(\n",
    "    '../data/oleasters_dhte_2023/hatasterulet.gpkg',\n",
    "    layer='hatasterulet_singlepart'\n",
    ")"
   ]
  },
  {
   "cell_type": "markdown",
   "source": [
    "## Define Excel file"
   ],
   "metadata": {
    "collapsed": false
   }
  },
  {
   "cell_type": "code",
   "execution_count": null,
   "outputs": [],
   "source": [
    "excel_file = '../results/oleasters_dhte_2023/area_statistics/oleasters.xlsx'"
   ],
   "metadata": {
    "collapsed": false
   }
  },
  {
   "cell_type": "markdown",
   "source": [
    "## Get sample area size in $m^2$"
   ],
   "metadata": {
    "collapsed": false
   }
  },
  {
   "cell_type": "code",
   "execution_count": null,
   "metadata": {},
   "outputs": [],
   "source": [
    "ludas_supbparts = sample_area_basic_data[sample_area_basic_data['subpart_name'].str.startswith('tarna')]\n",
    "rakottyas_subparts = sample_area_basic_data[sample_area_basic_data['subpart_name'].str.startswith('pely')]\n",
    "\n",
    "subpart_areas = {\n",
    "    'ludas': ludas_supbparts.geometry.area.sum(),\n",
    "    'rakottyas': rakottyas_subparts.geometry.area.sum(),\n",
    "    'sum': ludas_supbparts.geometry.area.sum() + rakottyas_subparts.geometry.area.sum()\n",
    "}\n",
    "print('Area sizes')\n",
    "print(subpart_areas)\n",
    "write_excel_sheet_from_dict(dictionary=subpart_areas, file_name=excel_file, sheet_name='sub-areas')"
   ]
  },
  {
   "cell_type": "markdown",
   "metadata": {},
   "source": [
    "## Spatial join the oleaster data with the sample areas"
   ]
  },
  {
   "cell_type": "code",
   "execution_count": null,
   "metadata": {},
   "outputs": [],
   "source": [
    "study_area = oleasters_basic_data.sjoin(sample_area_basic_data, how='left', predicate='intersects')"
   ]
  },
  {
   "cell_type": "markdown",
   "metadata": {},
   "source": [
    "## Remove oleasters outside the study area and remove the unnecessary columns"
   ]
  },
  {
   "cell_type": "code",
   "execution_count": null,
   "metadata": {},
   "outputs": [],
   "source": [
    "study_area.dropna(subset=['subpart_name'], inplace=True)\n",
    "study_area.drop(\n",
    "    columns=['category', 'area_left', 'estimated_individuals', 'index_right', 'fejlesztes', 'area_right'],\n",
    "    axis=1,\n",
    "    inplace=True)\n",
    "print('Column names of the cleaned base data frame')\n",
    "print(study_area.columns)\n",
    "print('Sample data from the base data frame')\n",
    "print(study_area.head(5))"
   ]
  },
  {
   "cell_type": "markdown",
   "source": [
    "## Calculate the area of the oleaster polygons in $m^2$"
   ],
   "metadata": {
    "collapsed": false
   }
  },
  {
   "cell_type": "code",
   "execution_count": null,
   "outputs": [],
   "source": [
    "study_area['area'] = study_area.geometry.area"
   ],
   "metadata": {
    "collapsed": false
   }
  },
  {
   "cell_type": "markdown",
   "source": [
    "## Create dataframe for the two separated sample areas"
   ],
   "metadata": {
    "collapsed": false
   }
  },
  {
   "cell_type": "code",
   "execution_count": null,
   "outputs": [],
   "source": [
    "ludas = study_area[study_area['subpart_name'].str.startswith('tarna')]\n",
    "rakottyas = study_area[study_area['subpart_name'].str.startswith('pely')]\n",
    "print('Sample data from the data frames separated by sub-areas')\n",
    "print(ludas.head(5))\n",
    "print(rakottyas.head(5))"
   ],
   "metadata": {
    "collapsed": false
   }
  },
  {
   "cell_type": "markdown",
   "source": [
    "## Calculate statistics"
   ],
   "metadata": {
    "collapsed": false
   }
  },
  {
   "cell_type": "code",
   "execution_count": null,
   "outputs": [],
   "source": [
    "study_area_statistics = AreaStatisticsComparisonWithSampleArea(\n",
    "    study_area,\n",
    "    subpart_areas['ludas'] + subpart_areas['rakottyas']\n",
    ")\n",
    "ludas_statistics = AreaStatisticsComparisonWithSampleArea(\n",
    "    ludas,\n",
    "    subpart_areas['ludas']\n",
    ")\n",
    "rakottyas_statistics = AreaStatisticsComparisonWithSampleArea(\n",
    "    rakottyas,\n",
    "    subpart_areas['rakottyas']\n",
    ")\n",
    "print('Statistics for all sample areas')\n",
    "print(study_area_statistics.get_area_statistics())\n",
    "print('Statistics for Ludas sample area')\n",
    "print(ludas_statistics.get_area_statistics())\n",
    "print('Statistics for Rakottyas sample area')\n",
    "print(rakottyas_statistics.get_area_statistics())"
   ],
   "metadata": {
    "collapsed": false
   }
  },
  {
   "cell_type": "markdown",
   "source": [
    "## Write statistics to csv"
   ],
   "metadata": {
    "collapsed": false
   }
  },
  {
   "cell_type": "code",
   "execution_count": null,
   "outputs": [],
   "source": [
    "write_csv_from_dict(\n",
    "    study_area_statistics.get_area_statistics(),\n",
    "    '../results/oleasters_dhte_2023/area_statistics/study_area_statistics.csv'\n",
    ")\n",
    "write_csv_from_dict(\n",
    "    ludas_statistics.get_area_statistics(),\n",
    "    '../results/oleasters_dhte_2023/area_statistics/ludas_statistics.csv'\n",
    ")\n",
    "write_csv_from_dict(\n",
    "    rakottyas_statistics.get_area_statistics(),\n",
    "    '../results/oleasters_dhte_2023/area_statistics/rakottyas_statistics.csv'\n",
    ")"
   ],
   "metadata": {
    "collapsed": false
   }
  },
  {
   "cell_type": "markdown",
   "source": [
    "# Write statistics to Excel"
   ],
   "metadata": {
    "collapsed": false
   }
  },
  {
   "cell_type": "code",
   "execution_count": null,
   "outputs": [],
   "source": [
    "write_excel_sheet_from_dataframe(\n",
    "    study_area_statistics.data,\n",
    "    file_name=excel_file,\n",
    "    sheet_name='study_area_statistics'\n",
    ")\n",
    "write_excel_sheet_from_dataframe(\n",
    "    ludas_statistics.data,\n",
    "    file_name=excel_file,\n",
    "    sheet_name='ludas_statistics'\n",
    ")\n",
    "write_excel_sheet_from_dataframe(\n",
    "    rakottyas_statistics.data,\n",
    "    file_name=excel_file,\n",
    "    sheet_name='rakottyas_statistics'\n",
    ")"
   ],
   "metadata": {
    "collapsed": false
   }
  },
  {
   "cell_type": "markdown",
   "source": [
    "## Classify polygons by area size based on natural breaks (Fisher-Jenks Algorithm), equal intervals and quartiles"
   ],
   "metadata": {
    "collapsed": false
   }
  },
  {
   "cell_type": "code",
   "execution_count": null,
   "outputs": [],
   "source": [
    "study_area_statistics.add_area_classifications_to_data()\n",
    "ludas_statistics.add_area_classifications_to_data()\n",
    "rakottyas_statistics.add_area_classifications_to_data()"
   ],
   "metadata": {
    "collapsed": false
   }
  },
  {
   "cell_type": "markdown",
   "source": [
    "## Write classified data to geopackage"
   ],
   "metadata": {
    "collapsed": false
   }
  },
  {
   "cell_type": "code",
   "execution_count": null,
   "outputs": [],
   "source": [
    "study_area_statistics.data.to_file(\n",
    "    '../results/oleasters_dhte_2023/gis_data/oleasters.gpkg',\n",
    "    layer='study_area',\n",
    "    driver='GPKG'\n",
    ")\n",
    "ludas_statistics.data.to_file(\n",
    "    '../results/oleasters_dhte_2023/gis_data/oleasters.gpkg',\n",
    "    layer='ludas',\n",
    "    driver='GPKG'\n",
    ")\n",
    "rakottyas_statistics.data.to_file(\n",
    "    '../results/oleasters_dhte_2023/gis_data/oleasters.gpkg',\n",
    "    layer='rakottyas',\n",
    "    driver='GPKG')"
   ],
   "metadata": {
    "collapsed": false
   }
  },
  {
   "cell_type": "markdown",
   "source": [
    "## Write classified data to csv"
   ],
   "metadata": {
    "collapsed": false
   }
  },
  {
   "cell_type": "code",
   "execution_count": null,
   "outputs": [],
   "source": [
    "study_area_statistics.data.to_csv(\n",
    "    '../results/oleasters_dhte_2023/area_statistics/study_area_classification_data.csv',\n",
    "    index=False\n",
    ")\n",
    "ludas_statistics.data.to_csv(\n",
    "    '../results/oleasters_dhte_2023/area_statistics/ludas_area_classification.csv',\n",
    "    index=False\n",
    ")\n",
    "rakottyas_statistics.data.to_csv(\n",
    "    '../results/oleasters_dhte_2023/area_statistics/rakottyas_area_classification.csv',\n",
    "    index=False\n",
    ")"
   ],
   "metadata": {
    "collapsed": false
   }
  },
  {
   "cell_type": "markdown",
   "source": [
    "## Write classified data to excel"
   ],
   "metadata": {
    "collapsed": false
   }
  },
  {
   "cell_type": "code",
   "execution_count": null,
   "outputs": [],
   "source": [
    "write_excel_sheet_from_dataframe(\n",
    "    study_area_statistics.data,\n",
    "    file_name=excel_file,\n",
    "    sheet_name='study_area_classes'\n",
    ")\n",
    "write_excel_sheet_from_dataframe(\n",
    "    ludas_statistics.data,\n",
    "    file_name=excel_file,\n",
    "    sheet_name='ludas_classes'\n",
    ")\n",
    "write_excel_sheet_from_dataframe(\n",
    "    study_area_statistics.data,\n",
    "    file_name=excel_file,\n",
    "    sheet_name='rakottyas_classes'\n",
    ")"
   ],
   "metadata": {
    "collapsed": false
   }
  },
  {
   "cell_type": "markdown",
   "source": [
    "## Jenks' classification analysis"
   ],
   "metadata": {
    "collapsed": false
   }
  },
  {
   "cell_type": "markdown",
   "source": [
    "### Create statistics by natural break categories"
   ],
   "metadata": {
    "collapsed": false
   }
  },
  {
   "cell_type": "code",
   "execution_count": null,
   "outputs": [],
   "source": [
    "study_area_jenks_statistics = study_area_statistics.get_classification_area_statistics(\n",
    "    'jenks',\n",
    "    'area',\n",
    "    subpart_areas['sum']\n",
    ")\n",
    "ludas_jenks_statistics = ludas_statistics.get_classification_area_statistics(\n",
    "    'jenks',\n",
    "    'area',\n",
    "    subpart_areas['ludas']\n",
    ")\n",
    "rakottyas_jenks_statistics = rakottyas_statistics.get_classification_area_statistics(\n",
    "    'jenks',\n",
    "    'area',\n",
    "    subpart_areas['rakottyas']\n",
    ")\n",
    "print('The jenks classification data for the three areas')\n",
    "print(study_area_jenks_statistics)\n",
    "print(ludas_jenks_statistics)\n",
    "print(rakottyas_jenks_statistics)"
   ],
   "metadata": {
    "collapsed": false
   }
  },
  {
   "cell_type": "markdown",
   "source": [
    "### Write natural break statistics to csv"
   ],
   "metadata": {
    "collapsed": false
   }
  },
  {
   "cell_type": "code",
   "execution_count": null,
   "outputs": [],
   "source": [
    "study_area_jenks_statistics.to_csv(\n",
    "    '../results/oleasters_dhte_2023/area_statistics/study_area_jenks_statistics.csv',\n",
    "     index=False\n",
    ")\n",
    "ludas_jenks_statistics.to_csv(\n",
    "    '../results/oleasters_dhte_2023/area_statistics/ludas_jenks_statistics.csv',\n",
    "    index=False\n",
    ")\n",
    "rakottyas_jenks_statistics.to_csv(\n",
    "    '../results/oleasters_dhte_2023/area_statistics/rakottyas_jenks_statistics.csv',\n",
    "    index=False\n",
    ")"
   ],
   "metadata": {
    "collapsed": false
   }
  },
  {
   "cell_type": "markdown",
   "source": [
    "### Write natural break statistics to excel"
   ],
   "metadata": {
    "collapsed": false
   }
  },
  {
   "cell_type": "code",
   "execution_count": null,
   "outputs": [],
   "source": [
    "write_excel_sheet_from_dataframe(\n",
    "    study_area_jenks_statistics,\n",
    "    file_name=excel_file,\n",
    "    sheet_name='study_area_jenks_statistics'\n",
    ")\n",
    "write_excel_sheet_from_dataframe(\n",
    "    ludas_jenks_statistics,\n",
    "    file_name=excel_file,\n",
    "    sheet_name='ludas_jenks_statistics'\n",
    ")\n",
    "write_excel_sheet_from_dataframe(\n",
    "    rakottyas_jenks_statistics,\n",
    "    file_name=excel_file,\n",
    "    sheet_name='rakottyas_jenks_statistics'\n",
    ")"
   ],
   "metadata": {
    "collapsed": false
   }
  },
  {
   "cell_type": "markdown",
   "source": [
    "### Create diagram for natural break statistics"
   ],
   "metadata": {
    "collapsed": false
   }
  },
  {
   "cell_type": "code",
   "execution_count": null,
   "outputs": [],
   "source": [
    "study_area_statistics.create_classification_diagram(\n",
    "    classification_column_name='jenks',\n",
    "    sample_area=subpart_areas['sum'],\n",
    "    path='../results/oleasters_dhte_2023/diagrams/study_area_jenks_diagram.png',\n",
    "    diagram_title='Natural break classification for the entire study area'\n",
    ")\n",
    "ludas_statistics.create_classification_diagram(\n",
    "    classification_column_name='jenks',\n",
    "    sample_area=subpart_areas['ludas'],\n",
    "    path='../results/oleasters_dhte_2023/diagrams/ludas_jenks_diagram.png',\n",
    "    diagram_title='Natural break classification for Ludas sample area'\n",
    ")\n",
    "rakottyas_statistics.create_classification_diagram(\n",
    "    classification_column_name='jenks',\n",
    "    sample_area=subpart_areas['rakottyas'],\n",
    "    path='../results/oleasters_dhte_2023/diagrams/rakottyas_jenks_diagram.png',\n",
    "    diagram_title='Natural break classification for Rakottyás sample area'\n",
    ")"
   ],
   "metadata": {
    "collapsed": false
   }
  },
  {
   "cell_type": "markdown",
   "source": [
    "# Create pie chart for area distribution in jenks classification"
   ],
   "metadata": {
    "collapsed": false
   }
  },
  {
   "cell_type": "code",
   "execution_count": null,
   "outputs": [],
   "source": [
    "study_area_statistics.create_classification_area_ratio_pie_chart(\n",
    "    classification_column_name='jenks',\n",
    "    sample_area=subpart_areas['sum'],\n",
    "    path='../results/oleasters_dhte_2023/diagrams/study_area_jenks_pie_chart.png'\n",
    ")\n",
    "ludas_statistics.create_classification_area_ratio_pie_chart(\n",
    "    classification_column_name='jenks',\n",
    "    sample_area=subpart_areas['ludas'],\n",
    "    path='../results/oleasters_dhte_2023/diagrams/ludas_jenks_pie_chart.png'\n",
    ")\n",
    "rakottyas_statistics.create_classification_area_ratio_pie_chart(\n",
    "    classification_column_name='jenks',\n",
    "    sample_area=subpart_areas['rakottyas'],\n",
    "    path='../results/oleasters_dhte_2023/diagrams/rakottyas_jenks_pie_chart.png'\n",
    ")"
   ],
   "metadata": {
    "collapsed": false
   }
  },
  {
   "cell_type": "markdown",
   "source": [
    "## Equal interval classification analysis"
   ],
   "metadata": {
    "collapsed": false
   }
  },
  {
   "cell_type": "code",
   "execution_count": null,
   "outputs": [],
   "source": [
    "study_area_equal_interval_statistics = study_area_statistics.get_classification_area_statistics(\n",
    "    'equal_interval_breaks',\n",
    "    'area',\n",
    "    subpart_areas['sum']\n",
    ")\n",
    "ludas_equal_interval_statistics = ludas_statistics.get_classification_area_statistics(\n",
    "    'equal_interval_breaks',\n",
    "    'area',\n",
    "    subpart_areas['ludas']\n",
    ")\n",
    "rakottyas_equal_interval_statistics = rakottyas_statistics.get_classification_area_statistics(\n",
    "    'equal_interval_breaks',\n",
    "    'area',\n",
    "    subpart_areas['rakottyas']\n",
    ")\n",
    "print('The equal interval classification data for the three areas')\n",
    "print(study_area_equal_interval_statistics)\n",
    "print(ludas_equal_interval_statistics)\n",
    "print(rakottyas_equal_interval_statistics)"
   ],
   "metadata": {
    "collapsed": false
   }
  },
  {
   "cell_type": "markdown",
   "source": [
    "### Write equal interval statistics to csv"
   ],
   "metadata": {
    "collapsed": false
   }
  },
  {
   "cell_type": "code",
   "execution_count": null,
   "outputs": [],
   "source": [
    "study_area_equal_interval_statistics.to_csv(\n",
    "    '../results/oleasters_dhte_2023/area_statistics/study_area_equal_interval_statistics.csv',\n",
    "    index=False\n",
    ")\n",
    "ludas_equal_interval_statistics.to_csv(\n",
    "    '../results/oleasters_dhte_2023/area_statistics/ludas_equal_interval_statistics.csv',\n",
    "    index=False\n",
    ")\n",
    "rakottyas_equal_interval_statistics.to_csv(\n",
    "    '../results/oleasters_dhte_2023/area_statistics/rakottyas_equal_interval_statistics.csv',\n",
    "    index=False\n",
    ")"
   ],
   "metadata": {
    "collapsed": false
   }
  },
  {
   "cell_type": "markdown",
   "source": [
    "### Write equal interval statistics to excel"
   ],
   "metadata": {
    "collapsed": false
   }
  },
  {
   "cell_type": "code",
   "execution_count": null,
   "outputs": [],
   "source": [
    "write_excel_sheet_from_dataframe(\n",
    "    study_area_equal_interval_statistics,\n",
    "    file_name=excel_file,\n",
    "    sheet_name='study_area_equal_interval_statistics'\n",
    ")\n",
    "write_excel_sheet_from_dataframe(\n",
    "    ludas_equal_interval_statistics,\n",
    "    file_name=excel_file,\n",
    "    sheet_name='ludas_equal_interval_statistics'\n",
    ")\n",
    "write_excel_sheet_from_dataframe(\n",
    "    rakottyas_equal_interval_statistics,\n",
    "    file_name=excel_file,\n",
    "    sheet_name='rakottyas_equal_interval_statistics'\n",
    ")"
   ],
   "metadata": {
    "collapsed": false
   }
  },
  {
   "cell_type": "markdown",
   "source": [
    "### Create diagrams for equal interval statistics"
   ],
   "metadata": {
    "collapsed": false
   }
  },
  {
   "cell_type": "code",
   "execution_count": null,
   "outputs": [],
   "source": [
    "study_area_statistics.create_classification_diagram(\n",
    "    classification_column_name='equal_interval_breaks',\n",
    "    sample_area=subpart_areas['sum'],\n",
    "    path='../results/oleasters_dhte_2023/diagrams/study_area_equal_interval_diagram.png',\n",
    "    diagram_title='Equal interval classifiication for the entire study area'\n",
    ")\n",
    "ludas_statistics.create_classification_diagram(\n",
    "    classification_column_name='equal_interval_breaks',\n",
    "    sample_area=subpart_areas['ludas'],\n",
    "    path='../results/oleasters_dhte_2023/diagrams/ludas_equal_interval_diagram.png',\n",
    "    diagram_title='Equal interval classifiication for the Ludas area'\n",
    ")\n",
    "rakottyas_statistics.create_classification_diagram(\n",
    "    classification_column_name='equal_interval_breaks',\n",
    "    sample_area=subpart_areas['rakottyas'],\n",
    "    path='../results/oleasters_dhte_2023/diagrams/rakottyas_equal_interval_diagram.png',\n",
    "    diagram_title='Equal interval classifiication for the Rakottyás area'\n",
    ")"
   ],
   "metadata": {
    "collapsed": false
   }
  },
  {
   "cell_type": "markdown",
   "source": [
    "# Create pie chart for area distribution in equal interval classification"
   ],
   "metadata": {
    "collapsed": false
   }
  },
  {
   "cell_type": "code",
   "execution_count": null,
   "outputs": [],
   "source": [
    "study_area_statistics.create_classification_area_ratio_pie_chart(\n",
    "    classification_column_name='equal_interval_breaks',\n",
    "    sample_area=subpart_areas['sum'],\n",
    "    path='../results/oleasters_dhte_2023/diagrams/study_area_equal_interval_pie_chart.png'\n",
    ")\n",
    "ludas_statistics.create_classification_area_ratio_pie_chart(\n",
    "    classification_column_name='equal_interval_breaks',\n",
    "    sample_area=subpart_areas['ludas'],\n",
    "    path='../results/oleasters_dhte_2023/diagrams/ludas_equal_interval_pie_chart.png'\n",
    ")\n",
    "rakottyas_statistics.create_classification_area_ratio_pie_chart(\n",
    "    classification_column_name='equal_interval_breaks',\n",
    "    sample_area=subpart_areas['rakottyas'],\n",
    "    path='../results/oleasters_dhte_2023/diagrams/rakottyas_equal_interval_pie_chart.png'\n",
    ")"
   ],
   "metadata": {
    "collapsed": false
   }
  },
  {
   "cell_type": "markdown",
   "source": [
    "## Quartile classification analysis"
   ],
   "metadata": {
    "collapsed": false
   }
  },
  {
   "cell_type": "markdown",
   "source": [
    "### Calculate quartile statistics"
   ],
   "metadata": {
    "collapsed": false
   }
  },
  {
   "cell_type": "code",
   "execution_count": null,
   "outputs": [],
   "source": [
    "study_area_quartile_statistics = study_area_statistics.get_classification_area_statistics(\n",
    "    'quartiles',\n",
    "    'area',\n",
    "    subpart_areas['sum']\n",
    ")\n",
    "ludas_quartile_statistics = ludas_statistics.get_classification_area_statistics(\n",
    "    'quartiles',\n",
    "    'area',\n",
    "    subpart_areas['ludas']\n",
    ")\n",
    "rakottyas_quartile_statistics = rakottyas_statistics.get_classification_area_statistics(\n",
    "    'quartiles',\n",
    "    'area',\n",
    "    subpart_areas['rakottyas']\n",
    ")\n",
    "print('The quartile classification data for the three areas')\n",
    "print(study_area_quartile_statistics)\n",
    "print(ludas_quartile_statistics)\n",
    "print(rakottyas_quartile_statistics)"
   ],
   "metadata": {
    "collapsed": false
   }
  },
  {
   "cell_type": "markdown",
   "source": [
    "### Write quartile statistics to csv"
   ],
   "metadata": {
    "collapsed": false
   }
  },
  {
   "cell_type": "code",
   "execution_count": null,
   "outputs": [],
   "source": [
    "study_area_quartile_statistics.to_csv(\n",
    "    '../results/oleasters_dhte_2023/area_statistics/study_area_quartile_statistics.csv',\n",
    "    index=False\n",
    ")\n",
    "ludas_quartile_statistics.to_csv(\n",
    "    '../results/oleasters_dhte_2023/area_statistics/ludas_quartile_statistics.csv',\n",
    "    index=False\n",
    ")\n",
    "rakottyas_quartile_statistics.to_csv(\n",
    "    '../results/oleasters_dhte_2023/area_statistics/rakottyas_quartile_statistics.csv',\n",
    "    index=False\n",
    ")"
   ],
   "metadata": {
    "collapsed": false
   }
  },
  {
   "cell_type": "markdown",
   "source": [
    "### Write quartile statistics to excel"
   ],
   "metadata": {
    "collapsed": false
   }
  },
  {
   "cell_type": "code",
   "execution_count": null,
   "outputs": [],
   "source": [
    "write_excel_sheet_from_dataframe(\n",
    "    study_area_quartile_statistics,\n",
    "    file_name=excel_file,\n",
    "    sheet_name='study_area_quartile_statistics'\n",
    ")\n",
    "write_excel_sheet_from_dataframe(\n",
    "    ludas_quartile_statistics,\n",
    "    file_name=excel_file,\n",
    "    sheet_name='ludas_quartile_statistics'\n",
    ")\n",
    "write_excel_sheet_from_dataframe(\n",
    "    rakottyas_quartile_statistics,\n",
    "    file_name=excel_file,\n",
    "    sheet_name='rakottyas_quartile_statistics'\n",
    ")"
   ],
   "metadata": {
    "collapsed": false
   }
  },
  {
   "cell_type": "markdown",
   "source": [
    "## Create diagrams for quartile statistics"
   ],
   "metadata": {
    "collapsed": false
   }
  },
  {
   "cell_type": "code",
   "execution_count": null,
   "outputs": [],
   "source": [
    "study_area_statistics.create_classification_diagram(\n",
    "    classification_column_name='quartiles',\n",
    "    sample_area=subpart_areas['sum'],\n",
    "    path='../results/oleasters_dhte_2023/diagrams/study_area_quartile_statistics.png',\n",
    "    diagram_title='Classification by quartiles for the entire study area'\n",
    ")\n",
    "ludas_statistics.create_classification_diagram(\n",
    "    classification_column_name='quartiles',\n",
    "    sample_area=subpart_areas['ludas'],\n",
    "    path='../results/oleasters_dhte_2023/diagrams/ludas_quartile_statistics.png',\n",
    "    diagram_title='Classification by quartiles for Ludas sample area'\n",
    ")\n",
    "rakottyas_statistics.create_classification_diagram(\n",
    "    classification_column_name='quartiles',\n",
    "    sample_area=subpart_areas['rakottyas'],\n",
    "    path='../results/oleasters_dhte_2023/diagrams/rakottyas_quartile_statistics.png',\n",
    "    diagram_title='Classification by quartiles for Rakottyás sample area'\n",
    ")"
   ],
   "metadata": {
    "collapsed": false
   }
  },
  {
   "cell_type": "markdown",
   "source": [
    "# Create pie chart for area distribution based on quartiles"
   ],
   "metadata": {
    "collapsed": false
   }
  },
  {
   "cell_type": "code",
   "execution_count": null,
   "outputs": [],
   "source": [
    "study_area_statistics.create_classification_area_ratio_pie_chart(\n",
    "    classification_column_name='quartiles',\n",
    "    sample_area=subpart_areas['sum'],\n",
    "    path='../results/oleasters_dhte_2023/diagrams/study_area_quartile_pie_chart.png'\n",
    ")\n",
    "ludas_statistics.create_classification_area_ratio_pie_chart(\n",
    "    classification_column_name='quartiles',\n",
    "    sample_area=subpart_areas['ludas'],\n",
    "    path='../results/oleasters_dhte_2023/diagrams/ludas_quartile_pie_chart.png'\n",
    ")\n",
    "rakottyas_statistics.create_classification_area_ratio_pie_chart(\n",
    "    classification_column_name='quartiles',\n",
    "    sample_area=subpart_areas['rakottyas'],\n",
    "    path='../results/oleasters_dhte_2023/diagrams/rakottyas_quartile_pie_chart.png'\n",
    ")\n"
   ],
   "metadata": {
    "collapsed": false
   }
  }
 ],
 "metadata": {
  "kernelspec": {
   "display_name": "Python 3 (ipykernel)",
   "language": "python",
   "name": "python3"
  },
  "language_info": {
   "codemirror_mode": {
    "name": "ipython",
    "version": 3
   },
   "file_extension": ".py",
   "mimetype": "text/x-python",
   "name": "python",
   "nbconvert_exporter": "python",
   "pygments_lexer": "ipython3",
   "version": "3.11.1"
  }
 },
 "nbformat": 4,
 "nbformat_minor": 1
}
