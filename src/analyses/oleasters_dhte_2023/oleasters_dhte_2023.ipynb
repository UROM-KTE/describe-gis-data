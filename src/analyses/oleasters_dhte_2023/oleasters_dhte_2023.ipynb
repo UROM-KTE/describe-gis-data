{
 "cells": [
  {
   "cell_type": "markdown",
   "metadata": {},
   "source": [
    "# Oleaster (Eleagnus angustifolia) coverage investigation in the South Heves Grasslands Landscape Protection Area in 2023"
   ]
  },
  {
   "cell_type": "markdown",
   "metadata": {},
   "source": [
    "## Importing libraries"
   ]
  },
  {
   "cell_type": "code",
   "execution_count": null,
   "metadata": {},
   "outputs": [],
   "source": [
    "import geopandas\n",
    "\n",
    "from src.calculate_statistics.area_statistics import AreaStatisticsComparisonWithSampleArea\n",
    "from src.utils.file_utils.write_csv import write_csv_from_dict\n",
    "from src.utils.file_utils.write_excel import write_excel_sheet_from_dict, write_excel_sheet_from_dataframe\n",
    "from src.utils.file_utils.create_results_folders import create_results_folder, remove_previous_results\n",
    "from src.utils.languages.languages import languages"
   ]
  },
  {
   "cell_type": "markdown",
   "source": [
    "## Remove previous results"
   ],
   "metadata": {
    "collapsed": false
   }
  },
  {
   "cell_type": "code",
   "execution_count": null,
   "outputs": [],
   "source": [
    "remove_previous_results('../../../results/oleasters_dhte_2023')"
   ],
   "metadata": {
    "collapsed": false
   }
  },
  {
   "cell_type": "markdown",
   "source": [
    "## Setting up results folder structure"
   ],
   "metadata": {
    "collapsed": false
   }
  },
  {
   "cell_type": "code",
   "execution_count": null,
   "outputs": [],
   "source": [
    "create_results_folder(results_folder='../../../results', project_folder='oleasters_dhte_2023', figures_folder='diagrams', statistics_folder='area_statistics')"
   ],
   "metadata": {
    "collapsed": false
   }
  },
  {
   "cell_type": "markdown",
   "source": [
    "## Setting up language"
   ],
   "metadata": {
    "collapsed": false
   }
  },
  {
   "cell_type": "code",
   "execution_count": null,
   "outputs": [],
   "source": [
    "language = languages['hu']"
   ],
   "metadata": {
    "collapsed": false
   }
  },
  {
   "cell_type": "markdown",
   "source": [
    "## Setting up the input data"
   ],
   "metadata": {
    "collapsed": false
   }
  },
  {
   "cell_type": "code",
   "execution_count": null,
   "metadata": {},
   "outputs": [],
   "source": [
    "oleasters_basic_data = geopandas.read_file(\n",
    "    '../../../data/oleasters_dhte_2023/ezustfa_manual_digit.gpkg',\n",
    "    layer='ezustfa_manual_digit'\n",
    ")\n",
    "sample_area_basic_data = geopandas.read_file(\n",
    "    '../../../data/oleasters_dhte_2023/hatasterulet.gpkg',\n",
    "    layer='hatasterulet_singlepart'\n",
    ")"
   ]
  },
  {
   "cell_type": "markdown",
   "source": [
    "## Define Excel file"
   ],
   "metadata": {
    "collapsed": false
   }
  },
  {
   "cell_type": "code",
   "execution_count": null,
   "outputs": [],
   "source": [
    "excel_file = '../../../results/oleasters_dhte_2023/area_statistics/oleasters.xlsx'"
   ],
   "metadata": {
    "collapsed": false
   }
  },
  {
   "cell_type": "markdown",
   "source": [
    "## Get sample area size in $m^2$"
   ],
   "metadata": {
    "collapsed": false
   }
  },
  {
   "cell_type": "code",
   "execution_count": null,
   "metadata": {},
   "outputs": [],
   "source": [
    "ludas_supbparts = sample_area_basic_data[sample_area_basic_data['subpart_name'].str.startswith('tarna')]\n",
    "rakottyas_subparts = sample_area_basic_data[sample_area_basic_data['subpart_name'].str.startswith('pely')]\n",
    "\n",
    "subpart_areas = {\n",
    "    'Ludas': ludas_supbparts.geometry.area.sum(),\n",
    "    'Rakottyás': rakottyas_subparts.geometry.area.sum(),\n",
    "    language['sum']: ludas_supbparts.geometry.area.sum() + rakottyas_subparts.geometry.area.sum()\n",
    "}\n",
    "print('Area sizes')\n",
    "print(subpart_areas)\n",
    "write_excel_sheet_from_dict(dictionary=subpart_areas, file_name=excel_file, sheet_name=language['sub_areas'])"
   ]
  },
  {
   "cell_type": "markdown",
   "metadata": {},
   "source": [
    "## Spatial join the oleaster data with the sample areas"
   ]
  },
  {
   "cell_type": "code",
   "execution_count": null,
   "metadata": {},
   "outputs": [],
   "source": [
    "study_area = oleasters_basic_data.sjoin(sample_area_basic_data, how='left', predicate='intersects')"
   ]
  },
  {
   "cell_type": "markdown",
   "metadata": {},
   "source": [
    "## Remove oleasters outside the study area and remove the unnecessary columns"
   ]
  },
  {
   "cell_type": "code",
   "execution_count": null,
   "metadata": {},
   "outputs": [],
   "source": [
    "study_area.dropna(subset=['subpart_name'], inplace=True)\n",
    "study_area.drop(\n",
    "    columns=['category', 'area_left', 'estimated_individuals', 'index_right', 'fejlesztes', 'area_right'],\n",
    "    axis=1,\n",
    "    inplace=True)\n",
    "study_area.rename(columns={'subpart_name':language['sub_area_name']}, inplace=True)\n",
    "print('Column names of the cleaned base data frame')\n",
    "print(study_area.columns)\n",
    "print('Sample data from the base data frame')\n",
    "print(study_area.head(5))"
   ]
  },
  {
   "cell_type": "markdown",
   "source": [
    "## Calculate the area of the oleaster polygons in $m^2$"
   ],
   "metadata": {
    "collapsed": false
   }
  },
  {
   "cell_type": "code",
   "execution_count": null,
   "outputs": [],
   "source": [
    "study_area[language['area']] = study_area.geometry.area"
   ],
   "metadata": {
    "collapsed": false
   }
  },
  {
   "cell_type": "markdown",
   "source": [
    "## Create dataframe for the two separated sample areas"
   ],
   "metadata": {
    "collapsed": false
   }
  },
  {
   "cell_type": "code",
   "execution_count": null,
   "outputs": [],
   "source": [
    "ludas = study_area[study_area[language['sub_area_name']].str.startswith('tarna')]\n",
    "rakottyas = study_area[study_area[language['sub_area_name']].str.startswith('pely')]\n",
    "print('Sample data from the data frames separated by sub-areas')\n",
    "print(ludas.head(5))\n",
    "print(rakottyas.head(5))"
   ],
   "metadata": {
    "collapsed": false
   }
  },
  {
   "cell_type": "markdown",
   "source": [
    "## Calculate statistics"
   ],
   "metadata": {
    "collapsed": false
   }
  },
  {
   "cell_type": "code",
   "execution_count": null,
   "outputs": [],
   "source": [
    "study_area_statistics = AreaStatisticsComparisonWithSampleArea(\n",
    "    study_area,\n",
    "    subpart_areas['Ludas'] + subpart_areas['Rakottyás'],\n",
    "    language = 'hu'\n",
    ")\n",
    "ludas_statistics = AreaStatisticsComparisonWithSampleArea(\n",
    "    ludas,\n",
    "    subpart_areas['Ludas'],\n",
    "    language='hu'\n",
    ")\n",
    "rakottyas_statistics = AreaStatisticsComparisonWithSampleArea(\n",
    "    rakottyas,\n",
    "    subpart_areas['Rakottyás'],\n",
    "    language='hu'\n",
    ")\n",
    "print('Statistics for all sample areas')\n",
    "print(study_area_statistics.get_area_statistics())\n",
    "print('Statistics for Ludas sample area')\n",
    "print(ludas_statistics.get_area_statistics())\n",
    "print('Statistics for Rakottyas sample area')\n",
    "print(rakottyas_statistics.get_area_statistics())"
   ],
   "metadata": {
    "collapsed": false
   }
  },
  {
   "cell_type": "markdown",
   "source": [
    "## Write statistics to csv"
   ],
   "metadata": {
    "collapsed": false
   }
  },
  {
   "cell_type": "code",
   "execution_count": null,
   "outputs": [],
   "source": [
    "write_csv_from_dict(\n",
    "    study_area_statistics.get_area_statistics(),\n",
    "    '../../../results/oleasters_dhte_2023/area_statistics/study_area_statistics.csv'\n",
    ")\n",
    "write_csv_from_dict(\n",
    "    ludas_statistics.get_area_statistics(),\n",
    "    '../../../results/oleasters_dhte_2023/area_statistics/ludas_statistics.csv'\n",
    ")\n",
    "write_csv_from_dict(\n",
    "    rakottyas_statistics.get_area_statistics(),\n",
    "    '../../../results/oleasters_dhte_2023/area_statistics/rakottyas_statistics.csv'\n",
    ")"
   ],
   "metadata": {
    "collapsed": false
   }
  },
  {
   "cell_type": "markdown",
   "source": [
    "## Write statistics to Excel"
   ],
   "metadata": {
    "collapsed": false
   }
  },
  {
   "cell_type": "code",
   "execution_count": null,
   "outputs": [],
   "source": [
    "write_excel_sheet_from_dict(\n",
    "    study_area_statistics.get_area_statistics(),\n",
    "    file_name=excel_file,\n",
    "    sheet_name=f'{language[\"study_area\"]} {language[\"statistics\"]}'\n",
    ")\n",
    "write_excel_sheet_from_dict(\n",
    "    ludas_statistics.get_area_statistics(),\n",
    "    file_name=excel_file,\n",
    "    sheet_name=f'Ludas {language[\"statistics\"]}'\n",
    ")\n",
    "write_excel_sheet_from_dict(\n",
    "    rakottyas_statistics.get_area_statistics(),\n",
    "    file_name=excel_file,\n",
    "    sheet_name=f'Rakottyás {language[\"statistics\"]}'\n",
    ")"
   ],
   "metadata": {
    "collapsed": false
   }
  },
  {
   "cell_type": "markdown",
   "source": [
    "## Classify polygons by area size based on natural breaks (Fisher-Jenks Algorithm), equal intervals, quartiles and based on estimated number of individuals"
   ],
   "metadata": {
    "collapsed": false
   }
  },
  {
   "cell_type": "code",
   "execution_count": null,
   "outputs": [],
   "source": [
    "study_area_statistics.add_area_classifications_to_data()\n",
    "ludas_statistics.add_area_classifications_to_data()\n",
    "rakottyas_statistics.add_area_classifications_to_data()"
   ],
   "metadata": {
    "collapsed": false
   }
  },
  {
   "cell_type": "code",
   "execution_count": null,
   "outputs": [],
   "source": [
    "print(study_area_statistics.data.columns)"
   ],
   "metadata": {
    "collapsed": false
   }
  },
  {
   "cell_type": "markdown",
   "source": [
    "### Add the custom classification to the data"
   ],
   "metadata": {
    "collapsed": false
   }
  },
  {
   "cell_type": "code",
   "execution_count": null,
   "outputs": [],
   "source": [
    "individual_classification_breaks = [100, 500, 1000]\n",
    "estimated_minimum = [1, 2, 5, 10]\n",
    "estimated_maximum = [1, 4, 9, 100]\n",
    "estimated_minimum_individuals_label = language['estimated_minimum_individuals']\n",
    "estimated_maximum_individuals_label = language['estimated_maximum_individuals']\n",
    "study_area_statistics.classify_areas(\n",
    "    area_field_name=language['area'],\n",
    "    breaks=individual_classification_breaks,\n",
    "    labels=estimated_minimum,\n",
    "    new_column_name=estimated_minimum_individuals_label\n",
    ")\n",
    "ludas_statistics.classify_areas(\n",
    "    area_field_name='area',\n",
    "    breaks=individual_classification_breaks,\n",
    "    labels=estimated_minimum,\n",
    "    new_column_name=estimated_minimum_individuals_label\n",
    ")\n",
    "rakottyas_statistics.classify_areas(\n",
    "    area_field_name='area',\n",
    "    breaks=individual_classification_breaks,\n",
    "    labels=estimated_minimum,\n",
    "    new_column_name=estimated_minimum_individuals_label\n",
    ")\n",
    "study_area_statistics.classify_areas(\n",
    "    area_field_name='area',\n",
    "    breaks=individual_classification_breaks,\n",
    "    labels=estimated_maximum,\n",
    "    new_column_name=estimated_maximum_individuals_label\n",
    ")\n",
    "ludas_statistics.classify_areas(\n",
    "    area_field_name='area',\n",
    "    breaks=individual_classification_breaks,\n",
    "    labels=estimated_maximum,\n",
    "    new_column_name=estimated_maximum_individuals_label\n",
    ")\n",
    "rakottyas_statistics.classify_areas(\n",
    "    area_field_name='area',\n",
    "    breaks=individual_classification_breaks,\n",
    "    labels=estimated_maximum,\n",
    "    new_column_name=estimated_maximum_individuals_label\n",
    ")"
   ],
   "metadata": {
    "collapsed": false
   }
  },
  {
   "cell_type": "markdown",
   "source": [
    "### Write classified data to geopackage"
   ],
   "metadata": {
    "collapsed": false
   }
  },
  {
   "cell_type": "code",
   "execution_count": null,
   "outputs": [],
   "source": [
    "study_area_statistics.data.to_file(\n",
    "    '../../../results/oleasters_dhte_2023/gis_data/oleasters.gpkg',\n",
    "    layer='study_area',\n",
    "    driver='GPKG'\n",
    ")\n",
    "ludas_statistics.data.to_file(\n",
    "    '../../../results/oleasters_dhte_2023/gis_data/oleasters.gpkg',\n",
    "    layer='ludas',\n",
    "    driver='GPKG'\n",
    ")\n",
    "rakottyas_statistics.data.to_file(\n",
    "    '../../../results/oleasters_dhte_2023/gis_data/oleasters.gpkg',\n",
    "    layer='rakottyas',\n",
    "    driver='GPKG'\n",
    ")"
   ],
   "metadata": {
    "collapsed": false
   }
  },
  {
   "cell_type": "markdown",
   "source": [
    "### Write classified data to csv"
   ],
   "metadata": {
    "collapsed": false
   }
  },
  {
   "cell_type": "code",
   "execution_count": null,
   "outputs": [],
   "source": [
    "study_area_statistics.data.to_csv(\n",
    "    '../../../results/oleasters_dhte_2023/area_statistics/study_area_classification.csv',\n",
    "    index=False\n",
    ")\n",
    "ludas_statistics.data.to_csv(\n",
    "    '../../../results/oleasters_dhte_2023/area_statistics/ludas_area_classification.csv',\n",
    "    index=False\n",
    ")\n",
    "rakottyas_statistics.data.to_csv(\n",
    "    '../../../results/oleasters_dhte_2023/area_statistics/rakottyas_area_classification.csv',\n",
    "    index=False\n",
    ")"
   ],
   "metadata": {
    "collapsed": false
   }
  },
  {
   "cell_type": "markdown",
   "source": [
    "### Write classified data to excel"
   ],
   "metadata": {
    "collapsed": false
   }
  },
  {
   "cell_type": "code",
   "execution_count": null,
   "outputs": [],
   "source": [
    "write_excel_sheet_from_dataframe(\n",
    "    study_area_statistics.data,\n",
    "    file_name=excel_file,\n",
    "    sheet_name=f'{language[\"study_area\"]}_{language[\"classification\"]}'\n",
    ")\n",
    "write_excel_sheet_from_dataframe(\n",
    "    ludas_statistics.data,\n",
    "    file_name=excel_file,\n",
    "    sheet_name=f'Ludas {language[\"classification\"]}'\n",
    ")\n",
    "write_excel_sheet_from_dataframe(\n",
    "    study_area_statistics.data,\n",
    "    file_name=excel_file,\n",
    "    sheet_name=f'Rakottys_{language[\"classification\"]}'\n",
    ")"
   ],
   "metadata": {
    "collapsed": false
   }
  },
  {
   "cell_type": "markdown",
   "source": [
    "## Jenks' classification analysis"
   ],
   "metadata": {
    "collapsed": false
   }
  },
  {
   "cell_type": "markdown",
   "source": [
    "### Create statistics by natural break categories"
   ],
   "metadata": {
    "collapsed": false
   }
  },
  {
   "cell_type": "code",
   "execution_count": null,
   "outputs": [],
   "source": [
    "study_area_jenks_statistics = study_area_statistics.get_classification_area_statistics(\n",
    "    language['jenks'],\n",
    "    language['area'],\n",
    "    subpart_areas[language['sum']]\n",
    ")\n",
    "ludas_jenks_statistics = ludas_statistics.get_classification_area_statistics(\n",
    "    language['jenks'],\n",
    "    language['area'],\n",
    "    subpart_areas['Ludas']\n",
    ")\n",
    "rakottyas_jenks_statistics = rakottyas_statistics.get_classification_area_statistics(\n",
    "    language['jenks'],\n",
    "    language['area'],\n",
    "    subpart_areas['Rakottyás']\n",
    ")\n",
    "print('The jenks classification data for the three areas')\n",
    "print(study_area_jenks_statistics)\n",
    "print(ludas_jenks_statistics)\n",
    "print(rakottyas_jenks_statistics)"
   ],
   "metadata": {
    "collapsed": false
   }
  },
  {
   "cell_type": "markdown",
   "source": [
    "### Write natural break statistics to csv"
   ],
   "metadata": {
    "collapsed": false
   }
  },
  {
   "cell_type": "code",
   "execution_count": null,
   "outputs": [],
   "source": [
    "study_area_jenks_statistics.to_csv(\n",
    "    '../../../results/oleasters_dhte_2023/area_statistics/study_area_jenks_statistics.csv',\n",
    "     index=False\n",
    ")\n",
    "ludas_jenks_statistics.to_csv(\n",
    "    '../../../results/oleasters_dhte_2023/area_statistics/ludas_jenks_statistics.csv',\n",
    "    index=False\n",
    ")\n",
    "rakottyas_jenks_statistics.to_csv(\n",
    "    '../../../results/oleasters_dhte_2023/area_statistics/rakottyas_jenks_statistics.csv',\n",
    "    index=False\n",
    ")"
   ],
   "metadata": {
    "collapsed": false
   }
  },
  {
   "cell_type": "markdown",
   "source": [
    "### Write natural break statistics to excel"
   ],
   "metadata": {
    "collapsed": false
   }
  },
  {
   "cell_type": "code",
   "execution_count": null,
   "outputs": [],
   "source": [
    "write_excel_sheet_from_dataframe(\n",
    "    study_area_jenks_statistics,\n",
    "    file_name=excel_file,\n",
    "    sheet_name=f'{language[\"study_area\"]} {language[\"jenks\"]} {language[\"statistics\"]}'\n",
    ")\n",
    "write_excel_sheet_from_dataframe(\n",
    "    ludas_jenks_statistics,\n",
    "    file_name=excel_file,\n",
    "    sheet_name=f'Ludas {language[\"jenks\"]} {language[\"statistics\"]}'\n",
    ")\n",
    "write_excel_sheet_from_dataframe(\n",
    "    rakottyas_jenks_statistics,\n",
    "    file_name=excel_file,\n",
    "    sheet_name=f'Rakottyás {language[\"jenks\"]} {language[\"statistics\"]}'\n",
    ")"
   ],
   "metadata": {
    "collapsed": false
   }
  },
  {
   "cell_type": "markdown",
   "source": [
    "### Create diagram for natural break statistics"
   ],
   "metadata": {
    "collapsed": false
   }
  },
  {
   "cell_type": "code",
   "execution_count": null,
   "outputs": [],
   "source": [
    "study_area_statistics.create_classification_diagram(\n",
    "    classification_column_name=language['jenks'],\n",
    "    sample_area=subpart_areas[language['sum']],\n",
    "    path='../../../results/oleasters_dhte_2023/diagrams/study_area_jenks_diagram.png',\n",
    "    diagram_title=language['natural_break_study_area_diagram_title']\n",
    ")\n",
    "ludas_statistics.create_classification_diagram(\n",
    "    classification_column_name=language['jenks'],\n",
    "    sample_area=subpart_areas['Ludas'],\n",
    "    path='../../../results/oleasters_dhte_2023/diagrams/ludas_jenks_diagram.png',\n",
    "    diagram_title=language['natural_break_ludas_diagram_title']\n",
    ")\n",
    "rakottyas_statistics.create_classification_diagram(\n",
    "    classification_column_name=language['jenks'],\n",
    "    sample_area=subpart_areas['Rakottyás'],\n",
    "    path='../../../results/oleasters_dhte_2023/diagrams/rakottyas_jenks_diagram.png',\n",
    "    diagram_title=language['natural_break_rakottyas_diagram_title']\n",
    ")"
   ],
   "metadata": {
    "collapsed": false
   }
  },
  {
   "cell_type": "markdown",
   "source": [
    "### Create pie chart for area distribution in jenks classification"
   ],
   "metadata": {
    "collapsed": false
   }
  },
  {
   "cell_type": "code",
   "execution_count": null,
   "outputs": [],
   "source": [
    "study_area_statistics.create_classification_area_ratio_pie_chart(\n",
    "    classification_column_name=language['jenks'],\n",
    "    sample_area=subpart_areas[language['sum']],\n",
    "    path='../../../results/oleasters_dhte_2023/diagrams/study_area_jenks_pie_chart.png',\n",
    "    diagram_title=language['natural_break_study_area_pie_chart_diagram_title']\n",
    ")\n",
    "ludas_statistics.create_classification_area_ratio_pie_chart(\n",
    "    classification_column_name=language['jenks'],\n",
    "    sample_area=subpart_areas['Ludas'],\n",
    "    path='../../../results/oleasters_dhte_2023/diagrams/ludas_jenks_pie_chart.png',\n",
    "    diagram_title=language['natural_break_ludas_pie_chart_diagram_title']\n",
    ")\n",
    "rakottyas_statistics.create_classification_area_ratio_pie_chart(\n",
    "    classification_column_name=language['jenks'],\n",
    "    sample_area=subpart_areas['Rakottyás'],\n",
    "    path='../../../results/oleasters_dhte_2023/diagrams/rakottyas_jenks_pie_chart.png',\n",
    "    diagram_title=language['natural_break_rakottyas_pie_chart_diagram_title']\n",
    ")"
   ],
   "metadata": {
    "collapsed": false
   }
  },
  {
   "cell_type": "markdown",
   "source": [
    "## Equal interval classification analysis"
   ],
   "metadata": {
    "collapsed": false
   }
  },
  {
   "cell_type": "code",
   "execution_count": null,
   "outputs": [],
   "source": [
    "study_area_equal_interval_statistics = study_area_statistics.get_classification_area_statistics(\n",
    "    language['equal_interval_breaks'],\n",
    "    language['area'],\n",
    "    subpart_areas[language['sum']]\n",
    ")\n",
    "ludas_equal_interval_statistics = ludas_statistics.get_classification_area_statistics(\n",
    "    language['equal_interval_breaks'],\n",
    "    language['area'],\n",
    "    subpart_areas['Ludas']\n",
    ")\n",
    "rakottyas_equal_interval_statistics = rakottyas_statistics.get_classification_area_statistics(\n",
    "    language['equal_interval_breaks'],\n",
    "    language['area'],\n",
    "    subpart_areas['Rakottyás']\n",
    ")\n",
    "print('The equal interval classification data for the three areas')\n",
    "print(study_area_equal_interval_statistics)\n",
    "print(ludas_equal_interval_statistics)\n",
    "print(rakottyas_equal_interval_statistics)"
   ],
   "metadata": {
    "collapsed": false
   }
  },
  {
   "cell_type": "markdown",
   "source": [
    "### Write equal interval statistics to csv"
   ],
   "metadata": {
    "collapsed": false
   }
  },
  {
   "cell_type": "code",
   "execution_count": null,
   "outputs": [],
   "source": [
    "study_area_equal_interval_statistics.to_csv(\n",
    "    '../../../results/oleasters_dhte_2023/area_statistics/study_area_equal_interval_statistics.csv',\n",
    "    index=False\n",
    ")\n",
    "ludas_equal_interval_statistics.to_csv(\n",
    "    '../../../results/oleasters_dhte_2023/area_statistics/ludas_equal_interval_statistics.csv',\n",
    "    index=False\n",
    ")\n",
    "rakottyas_equal_interval_statistics.to_csv(\n",
    "    '../../../results/oleasters_dhte_2023/area_statistics/rakottyas_equal_interval_statistics.csv',\n",
    "    index=False\n",
    ")"
   ],
   "metadata": {
    "collapsed": false
   }
  },
  {
   "cell_type": "markdown",
   "source": [
    "### Write equal interval statistics to excel"
   ],
   "metadata": {
    "collapsed": false
   }
  },
  {
   "cell_type": "code",
   "execution_count": null,
   "outputs": [],
   "source": [
    "write_excel_sheet_from_dataframe(\n",
    "    study_area_equal_interval_statistics,\n",
    "    file_name=excel_file,\n",
    "    sheet_name=f'{language[\"study_area\"]} {language[\"equal_interval\"]} {language[\"statistics\"]}'\n",
    ")\n",
    "write_excel_sheet_from_dataframe(\n",
    "    ludas_equal_interval_statistics,\n",
    "    file_name=excel_file,\n",
    "    sheet_name=f'Ludas {language[\"equal_interval\"]} {language[\"statistics\"]}'\n",
    ")\n",
    "write_excel_sheet_from_dataframe(\n",
    "    rakottyas_equal_interval_statistics,\n",
    "    file_name=excel_file,\n",
    "    sheet_name=f'Rakottyás {language[\"equal_interval\"]} {language[\"statistics\"]}'\n",
    ")"
   ],
   "metadata": {
    "collapsed": false
   }
  },
  {
   "cell_type": "markdown",
   "source": [
    "### Create diagrams for equal interval statistics"
   ],
   "metadata": {
    "collapsed": false
   }
  },
  {
   "cell_type": "code",
   "execution_count": null,
   "outputs": [],
   "source": [
    "study_area_statistics.create_classification_diagram(\n",
    "    classification_column_name=language['equal_interval_breaks'],\n",
    "    sample_area=subpart_areas[language['sum']],\n",
    "    path='../../../results/oleasters_dhte_2023/diagrams/study_area_equal_interval_diagram.png',\n",
    "    diagram_title=language['equal_interval_study_area_diagram_title']\n",
    ")\n",
    "ludas_statistics.create_classification_diagram(\n",
    "    classification_column_name=language['equal_interval_breaks'],\n",
    "    sample_area=subpart_areas['Ludas'],\n",
    "    path='../../../results/oleasters_dhte_2023/diagrams/ludas_equal_interval_diagram.png',\n",
    "    diagram_title=language['equal_interval_ludas_diagram_title']\n",
    ")\n",
    "rakottyas_statistics.create_classification_diagram(\n",
    "    classification_column_name=language['equal_interval_breaks'],\n",
    "    sample_area=subpart_areas['Rakottyás'],\n",
    "    path='../../../results/oleasters_dhte_2023/diagrams/rakottyas_equal_interval_diagram.png',\n",
    "    diagram_title=language['equal_interval_rakottyas_diagram_title']\n",
    ")"
   ],
   "metadata": {
    "collapsed": false
   }
  },
  {
   "cell_type": "markdown",
   "source": [
    "### Create pie chart for area distribution in equal interval classification"
   ],
   "metadata": {
    "collapsed": false
   }
  },
  {
   "cell_type": "code",
   "execution_count": null,
   "outputs": [],
   "source": [
    "study_area_statistics.create_classification_area_ratio_pie_chart(\n",
    "    classification_column_name=language['equal_interval_breaks'],\n",
    "    sample_area=subpart_areas[language['sum']],\n",
    "    path='../../../results/oleasters_dhte_2023/diagrams/study_area_equal_interval_pie_chart.png',\n",
    "    diagram_title=language['equal_interval_study_area_pie_chart_diagram_title']\n",
    ")\n",
    "ludas_statistics.create_classification_area_ratio_pie_chart(\n",
    "    classification_column_name=language['equal_interval_breaks'],\n",
    "    sample_area=subpart_areas['Ludas'],\n",
    "    path='../../../results/oleasters_dhte_2023/diagrams/ludas_equal_interval_pie_chart.png',\n",
    "    diagram_title=language['equal_interval_ludas_pie_chart_diagram_title']\n",
    ")\n",
    "rakottyas_statistics.create_classification_area_ratio_pie_chart(\n",
    "    classification_column_name=language['equal_interval_breaks'],\n",
    "    sample_area=subpart_areas['Rakottyás'],\n",
    "    path='../../../results/oleasters_dhte_2023/diagrams/rakottyas_equal_interval_pie_chart.png',\n",
    "    diagram_title=language['equal_interval_rakottyas_pie_chart_diagram_title']\n",
    ")"
   ],
   "metadata": {
    "collapsed": false
   }
  },
  {
   "cell_type": "markdown",
   "source": [
    "## Quartile classification analysis"
   ],
   "metadata": {
    "collapsed": false
   }
  },
  {
   "cell_type": "markdown",
   "source": [
    "### Calculate quartile statistics"
   ],
   "metadata": {
    "collapsed": false
   }
  },
  {
   "cell_type": "code",
   "execution_count": null,
   "outputs": [],
   "source": [
    "study_area_quartile_statistics = study_area_statistics.get_classification_area_statistics(\n",
    "    language['quartiles'],\n",
    "    language['area'],\n",
    "    subpart_areas[language['sum']]\n",
    ")\n",
    "ludas_quartile_statistics = ludas_statistics.get_classification_area_statistics(\n",
    "    language['quartiles'],\n",
    "    language['area'],\n",
    "    subpart_areas['Ludas']\n",
    ")\n",
    "rakottyas_quartile_statistics = rakottyas_statistics.get_classification_area_statistics(\n",
    "    language['quartiles'],\n",
    "    language['area'],\n",
    "    subpart_areas['Rakottyás']\n",
    ")\n",
    "print('The quartile classification data for the three areas')\n",
    "print(study_area_quartile_statistics)\n",
    "print(ludas_quartile_statistics)\n",
    "print(rakottyas_quartile_statistics)"
   ],
   "metadata": {
    "collapsed": false
   }
  },
  {
   "cell_type": "markdown",
   "source": [
    "### Write quartile statistics to csv"
   ],
   "metadata": {
    "collapsed": false
   }
  },
  {
   "cell_type": "code",
   "execution_count": null,
   "outputs": [],
   "source": [
    "study_area_quartile_statistics.to_csv(\n",
    "    '../../../results/oleasters_dhte_2023/area_statistics/study_area_quartile_statistics.csv',\n",
    "    index=False\n",
    ")\n",
    "ludas_quartile_statistics.to_csv(\n",
    "    '../../../results/oleasters_dhte_2023/area_statistics/ludas_quartile_statistics.csv',\n",
    "    index=False\n",
    ")\n",
    "rakottyas_quartile_statistics.to_csv(\n",
    "    '../../../results/oleasters_dhte_2023/area_statistics/rakottyas_quartile_statistics.csv',\n",
    "    index=False\n",
    ")"
   ],
   "metadata": {
    "collapsed": false
   }
  },
  {
   "cell_type": "markdown",
   "source": [
    "### Write quartile statistics to excel"
   ],
   "metadata": {
    "collapsed": false
   }
  },
  {
   "cell_type": "code",
   "execution_count": null,
   "outputs": [],
   "source": [
    "write_excel_sheet_from_dataframe(\n",
    "    study_area_quartile_statistics,\n",
    "    file_name=excel_file,\n",
    "    sheet_name=f'{language[\"study_area\"]} {language[\"quartile\"]} {language[\"statistics\"]}'\n",
    ")\n",
    "write_excel_sheet_from_dataframe(\n",
    "    ludas_quartile_statistics,\n",
    "    file_name=excel_file,\n",
    "    sheet_name=f'Ludas {language[\"quartile\"]} {language[\"statistics\"]}'\n",
    ")\n",
    "write_excel_sheet_from_dataframe(\n",
    "    rakottyas_quartile_statistics,\n",
    "    file_name=excel_file,\n",
    "    sheet_name=f'Rakottyás {language[\"quartile\"]} {language[\"statistics\"]}'\n",
    ")"
   ],
   "metadata": {
    "collapsed": false
   }
  },
  {
   "cell_type": "markdown",
   "source": [
    "### Create diagrams for quartile statistics"
   ],
   "metadata": {
    "collapsed": false
   }
  },
  {
   "cell_type": "code",
   "execution_count": null,
   "outputs": [],
   "source": [
    "study_area_statistics.create_classification_diagram(\n",
    "    classification_column_name=language['quartiles'],\n",
    "    sample_area=subpart_areas[language['sum']],\n",
    "    path='../../../results/oleasters_dhte_2023/diagrams/study_area_quartile_statistics.png',\n",
    "    diagram_title=language['quartiles_study_area_diagram_title']\n",
    ")\n",
    "ludas_statistics.create_classification_diagram(\n",
    "    classification_column_name=language['quartiles'],\n",
    "    sample_area=subpart_areas['Ludas'],\n",
    "    path='../../../results/oleasters_dhte_2023/diagrams/ludas_quartile_statistics.png',\n",
    "    diagram_title=language['quartiles_ludas_diagram_title']\n",
    ")\n",
    "rakottyas_statistics.create_classification_diagram(\n",
    "    classification_column_name=language['quartiles'],\n",
    "    sample_area=subpart_areas['Rakottyás'],\n",
    "    path='../../../results/oleasters_dhte_2023/diagrams/rakottyas_quartile_statistics.png',\n",
    "    diagram_title=language['quartiles_rakottyas_diagram_title']\n",
    ")"
   ],
   "metadata": {
    "collapsed": false
   }
  },
  {
   "cell_type": "markdown",
   "source": [
    "### Create pie chart for area distribution based on quartiles"
   ],
   "metadata": {
    "collapsed": false
   }
  },
  {
   "cell_type": "code",
   "execution_count": null,
   "outputs": [],
   "source": [
    "study_area_statistics.create_classification_area_ratio_pie_chart(\n",
    "    classification_column_name=language['quartiles'],\n",
    "    sample_area=subpart_areas[language['sum']],\n",
    "    path='../../../results/oleasters_dhte_2023/diagrams/study_area_quartile_pie_chart.png',\n",
    "    diagram_title=language['quartiles_study_area_pie_chart_diagram_title']\n",
    ")\n",
    "ludas_statistics.create_classification_area_ratio_pie_chart(\n",
    "    classification_column_name=language['quartiles'],\n",
    "    sample_area=subpart_areas['Ludas'],\n",
    "    path='../../../results/oleasters_dhte_2023/diagrams/ludas_quartile_pie_chart.png',\n",
    "    diagram_title=language['quartiles_ludas_pie_chart_diagram_title']\n",
    ")\n",
    "rakottyas_statistics.create_classification_area_ratio_pie_chart(\n",
    "    classification_column_name=language['quartiles'],\n",
    "    sample_area=subpart_areas['Rakottyás'],\n",
    "    path='../../../results/oleasters_dhte_2023/diagrams/rakottyas_quartile_pie_chart.png',\n",
    "    diagram_title=language['quartiles_rakottyas_pie_chart_diagram_title']\n",
    ")"
   ],
   "metadata": {
    "collapsed": false
   }
  },
  {
   "cell_type": "markdown",
   "source": [
    "## Estimate number of individuals"
   ],
   "metadata": {
    "collapsed": false
   }
  },
  {
   "cell_type": "code",
   "execution_count": null,
   "outputs": [],
   "source": [
    "study_area_minimum_individuals = study_area_statistics.data[language['estimated_minimum_individuals']].astype(int).sum()\n",
    "study_area_maximum_individuals = study_area_statistics.data[language['estimated_maximum_individuals']].astype(int).sum()\n",
    "ludas_minimum_individuals = ludas_statistics.data[language['estimated_minimum_individuals']].astype(int).sum()\n",
    "ludas_maximum_individuals = ludas_statistics.data[language['estimated_maximum_individuals']].astype(int).sum()\n",
    "rakottyas_minimum_individuals = rakottyas_statistics.data[language['estimated_minimum_individuals']].astype(int).sum()\n",
    "rakottyas_maximum_individuals = rakottyas_statistics.data[language['estimated_maximum_individuals']].astype(int).sum()\n",
    "\n",
    "estimated_individuals = {\n",
    "    'Ludas': {\n",
    "        language['estimated_minimum_individuals']: ludas_minimum_individuals,\n",
    "        language['estimated_maximum_individuals']: ludas_maximum_individuals,\n",
    "    },\n",
    "    'Rakottyás': {\n",
    "        language['estimated_minimum_individuals']: rakottyas_minimum_individuals,\n",
    "        language['estimated_maximum_individuals']: rakottyas_maximum_individuals,\n",
    "    },\n",
    "    language['study_area']: {\n",
    "        language['estimated_minimum_individuals']: study_area_minimum_individuals,\n",
    "        language['estimated_maximum_individuals']: study_area_maximum_individuals,\n",
    "    },\n",
    "}\n",
    "print(estimated_individuals)"
   ],
   "metadata": {
    "collapsed": false
   }
  },
  {
   "cell_type": "code",
   "execution_count": null,
   "outputs": [],
   "source": [
    "### Export estimated individuals to csv"
   ],
   "metadata": {
    "collapsed": false
   }
  },
  {
   "cell_type": "code",
   "execution_count": null,
   "outputs": [],
   "source": [
    "write_csv_from_dict(estimated_individuals, '../../../results/oleasters_dhte_2023/area_statistics/estimated_individuals.csv')"
   ],
   "metadata": {
    "collapsed": false
   }
  },
  {
   "cell_type": "code",
   "execution_count": null,
   "outputs": [],
   "source": [
    "### Export estimated individuals to excel\n",
    "write_excel_sheet_from_dict(estimated_individuals, excel_file, language['estimated_individuals'])\n"
   ],
   "metadata": {
    "collapsed": false
   }
  }
 ],
 "metadata": {
  "kernelspec": {
   "display_name": "Python 3 (ipykernel)",
   "language": "python",
   "name": "python3"
  },
  "language_info": {
   "codemirror_mode": {
    "name": "ipython",
    "version": 3
   },
   "file_extension": ".py",
   "mimetype": "text/x-python",
   "name": "python",
   "nbconvert_exporter": "python",
   "pygments_lexer": "ipython3",
   "version": "3.11.1"
  }
 },
 "nbformat": 4,
 "nbformat_minor": 1
}
